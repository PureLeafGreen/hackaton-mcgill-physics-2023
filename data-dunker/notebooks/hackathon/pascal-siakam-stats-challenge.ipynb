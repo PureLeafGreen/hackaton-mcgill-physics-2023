{
 "cells": [
  {
   "attachments": {},
   "cell_type": "markdown",
   "metadata": {},
   "source": [
    "![top-banner](https://raw.githubusercontent.com/PS43Foundation/data-dunkers/main/docs/top-banner.jpg)\n",
    "\n",
    "<a target=\"_parent\" href=\"https://colab.research.google.com/github/PS43Foundation/data-dunkers/blob/main/notebooks/hackathon/pascal-siakam-stats-challenge.ipynb\"><img src=\"https://colab.research.google.com/assets/colab-badge.svg\" alt=\"Open In Colab\"/>\n",
    "</a>\n",
    "\n",
    "<a href=\"https://hub.callysto.ca/jupyter/hub/user-redirect/git-pull?repo=https%3A%2F%2Fgithub.com%2FPS43Foundation%2Fdata-dunkers&branch=main&subPath=notebooks/hackathon/pascal-siakam-stats-challenge.ipynb&depth=1\" target=\"_parent\"><img src=\"https://raw.githubusercontent.com/callysto/curriculum-notebooks/master/open-in-callysto-button.svg?sanitize=true\" width=\"123\" height=\"24\" alt=\"Open in Callysto\"/></a>\n",
    "\n",
    "<a target=\"_parent\" href=\"https://2i2c.callysto.ca/hub/user-redirect/git-pull?repo=https%3A%2F%2Fgithub.com%2FPS43Foundation%2Fdata-dunkers&branch=main&subPath=notebooks/hackathon/pascal-siakam-stats-challenge.ipynb&depth=1\"><img src=\"https://2i2c.org/media/logo.svg\" width=\"30\" height=\"30\" alt=\"Open in 2i2c Hub\"/></a>"
   ]
  },
  {
   "attachments": {},
   "cell_type": "markdown",
   "metadata": {},
   "source": [
    "# Pascal Siakam Statistics\n",
    "\n",
    "Submitted by: \n",
    "\n",
    "## Introduction\n",
    "\n",
    "Pascal Siakam took an unconventional road to stardom. He didn't grow up playing basketball, but instead began only when he was in high school.\n",
    "\n",
    "In this notebook we will use statistics from [Basektball Reference](https://www.basketball-reference.com).\n",
    "\n",
    "## Challenges\n",
    "\n",
    "1. Plot some of Pascal Siakam's statistics over time, such as points per game or rebounds per game. Are there any patterns?\n",
    "1. Pascal has taken on more of a leadership role with the Toronto Raptors since they won a championship in 2019, meaning that he has more responsibility, plays more minutes, and takes more shots. Plot a graph that contains some or all of the previous stats, but also contains his Minutes Per Game. What does this tell us about how Pascal is playing now that he is the \"star\" of the team?\n",
    "1. We can also take a look at how \"efficient\" he is as he evolves by looking at his shooting percentages for different types of shots (we’ll start with 2-pointers and 3-pointers). Plot his shooting percentage by year for his career. What trends do you notice?\n",
    "1. How does Pascal Siakam's efficiency change as he becomes a superstar? Plot a graph containing his Minutes Per Game, 2 Pt % and 3 Pt % over time. What do you notice? Does a higher usage lead to a greater or lesser efficiency?\n",
    "1. If you were the General Manager and looking at these trends, what would you prioritize to maximize the talents of Pascal Siakam?\n",
    "1. Using the 2016 Draft Class, plot a graph of the Total Career Points of the first round draft picks. Is Plascal Siakam near the top?\n",
    "1. Find the top 5 total point scorers of that draft class. For each, find their player page and then plot their Points Per Game for their careers thus far."
   ]
  },
  {
   "cell_type": "code",
   "execution_count": 3,
   "metadata": {},
   "outputs": [
    {
     "name": "stdout",
     "output_type": "stream",
     "text": [
      "Libraries and data imported\n"
     ]
    }
   ],
   "source": [
    "import pandas as pd\n",
    "import plotly.express as px\n",
    "per_game = pd.read_html('https://www.basketball-reference.com/players/s/siakapa01.html')[0]\n",
    "draft_class = pd.read_html('https://www.basketball-reference.com/draft/NBA_2016.html')[0]\n",
    "draft_class = draft_class.fillna(0)\n",
    "draft_class = draft_class.drop([30, 31]).reset_index(drop=True)\n",
    "draft_class.columns = draft_class.columns.droplevel()\n",
    "draft_class.columns = ['Rk','Pk','Tm','Player','College','Yrs','G','MP','PTS','TRB','AST','FG%','3P%','FT%','MPPG','PTSPG','TRBPG','ASTPG','WS','WS/48','BPM','VORP']\n",
    "for column in draft_class.columns:\n",
    "    draft_class[column] = pd.to_numeric(draft_class[column], errors='ignore')\n",
    "print('Libraries and data imported')"
   ]
  },
  {
   "cell_type": "markdown",
   "metadata": {},
   "source": [
    "### Pascal Siakam Per Game Columns\n",
    "\n",
    "|Column|Meaning|\n",
    "|-|-|\n",
    "|Season|If listed as single number, the year the season ended|\n",
    "|Age|Player's age on February 1 of the season|\n",
    "|Tm|Team|\n",
    "|Lg|League|\n",
    "|Pos|Position|\n",
    "|G|Games|\n",
    "|GS|Games Started|\n",
    "|MP|Minutes Played Per Game|\n",
    "|FG|Field Goals Per Game|\n",
    "|FGA|Field Goal Attempts Per Game|\n",
    "|FG%|Field Goal Percentage|\n",
    "|3P|3-Point Field Goals Per Game|\n",
    "|3PA|3-Point Field Goal Attempts Per Game|\n",
    "|3P%|3-Point Field Goal Percentage|\n",
    "|2P|2-Point Field Goals Per Game|\n",
    "|2PA|2-Point Field Goal Attempts Per Game|\n",
    "|2P%|2-Point Field Goal Percentage|\n",
    "|eFG%|Effective Field Goal Percentage (since a 3-point field goal is worth more)|\n",
    "|FT|Free Throws Per Game|\n",
    "|FTA|Free Throw Attempts Per Game|\n",
    "|FT%|Free Throw Percentage|\n",
    "|ORB|Offensive Rebounds Per Game|\n",
    "|DRB|Defensive Rebounds Per Game|\n",
    "|TRB|Total Rebounds Per Game|\n",
    "|AST|Assists Per Game|\n",
    "|STL|Steals Per Game|\n",
    "|BLK|Blocks Per Game|\n",
    "|TOV|Turnovers Per Game|\n",
    "|PF|Personal Fouls Per Game|\n",
    "|PTS|Points Per Game|\n",
    "\n",
    "### NBA 2016 Draft Class Columns\n",
    "\n",
    "|Column|Meaning|\n",
    "|-|-|\n",
    "|Rk|Rank|\n",
    "|Pk|Overall Pick|\n",
    "|Tm|Team|\n",
    "|Yrs|Seasons that player has appeared in the NBA|\n",
    "|G|Games|\n",
    "|MP|Minutes Played|\n",
    "|PTS|Points|\n",
    "|TRB|Total Rebounds|\n",
    "|AST|Assists|\n",
    "|FG%|Field Goal Percentage|\n",
    "|3P%|3-Point Field Goal Percentage|\n",
    "|FT%|Free Throw Percentage|\n",
    "|MPPG|Minutes Played Per Game|\n",
    "|PTSPG|Points Per Game|\n",
    "|TRBPG|Total Rebounds Per Game|\n",
    "|ASTPG|Assists Per Game|\n",
    "|WS|Win Shares, an estimate of the number of wins contributed by a player|\n",
    "|WS/48|Win Shares Per 48 Minutes (league average is about .100)|\n",
    "|BPM|Box Plus/Minus, estimate of points per 100 possessions a player contributed above a league-average player, translated to an average team|\n",
    "|VORP|Value over Replacement Player, estimate of points per 100 TEAM possessions a player contributed above a replacement-level (-2.0) player, translated to an average team and prorated to an 82-game season|"
   ]
  },
  {
   "cell_type": "markdown",
   "metadata": {},
   "source": [
    "## Analysis\n",
    "\n"
   ]
  },
  {
   "cell_type": "code",
   "execution_count": 6,
   "metadata": {},
   "outputs": [
    {
     "name": "stdout",
     "output_type": "stream",
     "text": [
      "    Rk  Pk   Tm                   Player               Pos Yrs    G     MP  \\\n",
      "0    1   1  PHI              Ben Simmons               LSU   6  322  10588   \n",
      "1    2   2  LAL           Brandon Ingram              Duke   8  415  13686   \n",
      "2    3   3  BOS             Jaylen Brown        California   8  474  14093   \n",
      "3    4   4  PHO            Dragan Bender                 0   4  187   3755   \n",
      "4    5   5  MIN                Kris Dunn        Providence   8  273   6544   \n",
      "5    6   6  NOP              Buddy Hield          Oklahoma   8  553  16274   \n",
      "6    7   7  DEN             Jamal Murray          Kentucky   7  416  12724   \n",
      "7    8   8  SAC          Marquese Chriss        Washington   6  292   5338   \n",
      "8    9   9  TOR             Jakob Poeltl              Utah   8  494  10468   \n",
      "9   10  10  MIL               Thon Maker                 0   5  263   3624   \n",
      "10  11  11  ORL         Domantas Sabonis           Gonzaga   8  498  14681   \n",
      "11  12  12  UTA           Taurean Prince            Baylor   8  428  10244   \n",
      "12  13  13  PHO     Georgios Papagiannis                 0   2   39    477   \n",
      "13  14  14  CHI         Denzel Valentine    Michigan State   5  256   4817   \n",
      "14  15  15  DEN      Juancho Hernangómez                 0   7  339   5269   \n",
      "15  16  16  BOS       Guerschon Yabusele                 0   2   74    486   \n",
      "16  17  17  MEM             Wade Baldwin        Vanderbilt   3   56    579   \n",
      "17  18  18  DET           Henry Ellenson         Marquette   5   83    787   \n",
      "18  19  19  DEN            Malik Beasley     Florida State   8  422   9261   \n",
      "19  20  20  IND             Caris LeVert          Michigan   8  397  11165   \n",
      "20  21  21  ATL          DeAndre' Bembry    Saint Joseph's   6  296   5670   \n",
      "21  22  22  CHO       Malachi Richardson          Syracuse   3   70    625   \n",
      "22  23  23  BOS               Ante Žižić                 0   3  113   1517   \n",
      "23  24  24  PHI  Timothé Luwawu-Cabarrot                 0   6  328   5254   \n",
      "24  25  25  LAC            Brice Johnson               UNC   2   21    107   \n",
      "25  26  26  PHI           Furkan Korkmaz                 0   7  295   5171   \n",
      "26  27  27  TOR            Pascal Siakam  New Mexico State   8  477  14645   \n",
      "27  28  28  PHO          Skal Labissière          Kentucky   4  148   2595   \n",
      "28  29  29  SAS          Dejounte Murray        Washington   7  399  11121   \n",
      "29  30  30  GSW             Damian Jones        Vanderbilt   8  244   3544   \n",
      "30  31  31  BOS            Deyonta Davis    Michigan State   3  107   1299   \n",
      "31  32  32  LAL              Ivica Zubac                 0   8  441   9135   \n",
      "32  33  33  LAC            Cheick Diallo            Kansas   5  183   2186   \n",
      "33  34  34  PHO               Tyler Ulis          Kentucky   3  133   2782   \n",
      "34  35  35  BOS             Rade Zagorac                 0   0    0      0   \n",
      "35  36  36  MIL          Malcolm Brogdon          Virginia   8  406  11974   \n",
      "36  37  37  HOU           Chinanu Onuaku        Louisville   2    6     74   \n",
      "37  38  38  MIL            Patrick McCaw              UNLV   5  199   3373   \n",
      "38  39  39  NOP          David Michineau                 0   0    0      0   \n",
      "39  40  40  NOP            Diamond Stone          Maryland   1    7     24   \n",
      "40  41  41  ORL        Stephen Zimmerman              UNLV   1   19    108   \n",
      "41  42  42  UTA         Isaiah Whitehead        Seton Hall   2   89   1823   \n",
      "42  43  43  HOU                  Zhou Qi                 0   2   19    125   \n",
      "43  44  44  ATL          Isaïa Cordinier                 0   0    0      0   \n",
      "44  45  45  BOS        Demetrius Jackson        Notre Dame   3   26    136   \n",
      "45  46  46  DAL             A.J. Hammons            Purdue   1   22    163   \n",
      "46  47  47  ORL              Jake Layman          Maryland   6  243   3099   \n",
      "47  48  48  CHI              Paul Zipser                 0   2   98   1667   \n",
      "48  49  49  DET          Michael Gbinije          Syracuse   1    9     32   \n",
      "49  50  50  IND            Georges Niang        Iowa State   8  389   6105   \n",
      "50  51  51  BOS               Ben Bentil        Providence   1    3     10   \n",
      "51  52  52  UTA            Joel Bolomboy       Weber State   2   18     91   \n",
      "52  53  53  DEN            Petr Cornelie                 0   1   13     38   \n",
      "53  54  54  ATL               Kay Felder           Oakland   2   58    526   \n",
      "54  55  55  BRK             Marcus Paige               UNC   1    5     28   \n",
      "55  56  56  DEN          Daniel Hamilton             UConn   2   25    232   \n",
      "56  57  57  MEM              Wang Zhelin                 0   0    0      0   \n",
      "57  58  58  BOS              Abdel Nader        Iowa State   5  202   2583   \n",
      "58  59  59  SAC           Isaiah Cousins          Oklahoma   0    0      0   \n",
      "59  60  60  UTA           Tyrone Wallace        California   4  112   1714   \n",
      "\n",
      "     PTS   TRB  ...    3P    FT%  MPPG PTSPG TRBPG ASTPG    WS  WS/48    BPM  \\\n",
      "0   4710  2530  ...  .139   .590  32.9  14.6   7.9   7.5  32.9   .149    3.3   \n",
      "1   7969  2156  ...  .363   .784  33.0  19.2   5.2   4.1  22.2   .078   -0.1   \n",
      "2   8518  2478  ...  .366   .722  29.7  18.0   5.2   2.2  30.0   .102    0.3   \n",
      "3   1014   720  ...  .323   .654  20.1   5.4   3.9   1.3   0.5   .006   -3.9   \n",
      "4   2308   924  ...  .311   .743  24.0   8.5   3.4   4.3   5.7   .042   -1.8   \n",
      "5   8863  2420  ...  .402   .858  29.4  16.0   4.4   2.6  21.6   .064    0.4   \n",
      "6   7049  1531  ...  .374   .869  30.6  16.9   3.7   4.3  26.5   .100    0.5   \n",
      "7   2206  1366  ...  .290   .667  18.3   7.6   4.7   1.0   6.5   .058   -2.4   \n",
      "8   3990  3231  ...  .500   .536  21.2   8.1   6.5   1.6  35.3   .162    1.1   \n",
      "9   1216   726  ...  .327   .680  13.8   4.6   2.8   0.6   6.6   .087   -2.1   \n",
      "10  7547  4844  ...  .326   .730  29.5  15.2   9.7   4.2  47.8   .156    2.5   \n",
      "11  4434  1580  ...  .372   .818  23.9  10.4   3.7   1.7   9.8   .046   -1.9   \n",
      "12   160   123  ...  .000   .857  12.2   4.1   3.2   0.7   0.4   .044   -3.9   \n",
      "13  1795   857  ...  .360   .787  18.8   7.0   3.3   1.8   4.5   .044   -1.9   \n",
      "14  1711  1131  ...  .342   .676  15.5   5.0   3.3   0.6   8.7   .080   -1.9   \n",
      "15   173   105  ...  .323   .682   6.6   2.3   1.4   0.4   1.1   .105   -1.9   \n",
      "16   174    69  ...  .250   .776  10.3   3.1   1.2   1.4  -0.3  -.028   -5.3   \n",
      "17   342   206  ...  .336   .773   9.5   4.1   2.5   0.6   0.4   .023   -3.7   \n",
      "18  4561  1124  ...  .379   .801  21.9  10.8   2.7   1.3  12.0   .062   -1.2   \n",
      "19  5637  1519  ...  .345   .732  28.1  14.2   3.8   3.9  16.4   .071   -0.5   \n",
      "20  1750   950  ...  .283   .611  19.2   5.9   3.2   1.8   4.4   .038   -2.3   \n",
      "21   198    70  ...  .301   .783   8.9   2.8   1.0   0.3  -0.1  -.009   -6.1   \n",
      "22   674   446  ...     0   .711  13.4   6.0   3.9   0.6   3.5   .110   -2.6   \n",
      "23  1937   656  ...  .335   .829  16.0   5.9   2.0   0.9   4.7   .043   -4.0   \n",
      "24    47    34  ...  .000   .600   5.1   2.2   1.6   0.1   0.1   .062   -0.6   \n",
      "25  2170   617  ...  .357   .763  17.5   7.4   2.1   1.2   7.4   .068   -1.9   \n",
      "26  8110  3115  ...  .328   .774  30.7  17.0   6.5   3.5  41.4   .136    2.0   \n",
      "27  1069   662  ...  .353   .748  17.5   7.2   4.5   1.0   4.4   .081   -2.3   \n",
      "28  5617  2330  ...  .335   .785  27.9  14.1   5.8   5.1  21.7   .094    1.6   \n",
      "29  1266   814  ...  .383   .705  14.5   5.2   3.3   0.7  10.5   .142   -1.1   \n",
      "30   454   346  ...  .000   .635  12.1   4.2   3.2   0.4   3.6   .131   -2.1   \n",
      "31  3877  3146  ...  .083   .739  20.7   8.8   7.1   1.1  33.2   .175    0.2   \n",
      "32   958   759  ...  .286   .774  11.9   5.2   4.1   0.4   6.3   .139   -1.4   \n",
      "33   998   223  ...  .280   .808  20.9   7.5   1.7   4.0   0.5   .008   -3.6   \n",
      "34     0     0  ...     0      0     0     0     0     0     0      0      0   \n",
      "35  6274  1708  ...  .387   .877  29.5  15.5   4.2   4.6  30.5   .122    1.4   \n",
      "36    18    14  ...     0  1.000  12.3   3.0   2.3   0.7   0.1   .043   -5.4   \n",
      "37   760   319  ...  .305   .785  16.9   3.8   1.6   1.4   4.4   .062   -2.8   \n",
      "38     0     0  ...     0      0     0     0     0     0     0      0      0   \n",
      "39    10     6  ...     0  1.000   3.4   1.4   0.9   0.0  -0.1  -.211  -20.8   \n",
      "40    23    35  ...     0   .600   5.7   1.2   1.8   0.2   0.0  -.005   -8.3   \n",
      "41   643   210  ...  .305   .788  20.5   7.2   2.4   2.4  -0.9  -.025   -5.0   \n",
      "42    24    22  ...  .105   .667   6.6   1.3   1.2   0.1  -0.2  -.093   -9.6   \n",
      "43     0     0  ...     0      0     0     0     0     0     0      0      0   \n",
      "44    48    19  ...  .286   .667   5.2   1.8   0.7   0.7   0.2   .087   -0.5   \n",
      "45    48    36  ...  .500   .450   7.4   2.2   1.6   0.2   0.0  -.001   -6.6   \n",
      "46  1175   417  ...  .300   .719  12.8   4.8   1.7   0.5   3.8   .059   -2.3   \n",
      "47   458   256  ...  .335   .769  17.0   4.7   2.6   0.8   0.0  -.001   -5.2   \n",
      "48     4     3  ...  .000  1.000   3.6   0.4   0.3   0.2  -0.1  -.136  -12.1   \n",
      "49  2531   831  ...  .400   .874  15.7   6.5   2.1   0.9  10.5   .083   -1.4   \n",
      "50     0     2  ...  .000      0   3.3   0.0   0.7   0.0  -0.1  -.473  -25.9   \n",
      "51    31    27  ...  .200   .500   5.1   1.7   1.5   0.1   0.3   .132   -0.1   \n",
      "52    14    14  ...  .125   .750   2.9   1.1   1.1   0.2   0.0  -.015   -8.8   \n",
      "53   223    59  ...  .268   .754   9.1   3.8   1.0   1.3  -0.4  -.041   -4.7   \n",
      "54    12     4  ...  .250  1.000   5.6   2.4   0.8   0.6   0.0  -.006   -8.8   \n",
      "55    69    52  ...  .357   .500   9.3   2.8   2.1   1.2   0.0   .000   -3.3   \n",
      "56     0     0  ...     0      0     0     0     0     0     0      0      0   \n",
      "57   926   376  ...  .357   .718  12.8   4.6   1.9   0.5   2.8   .052   -2.6   \n",
      "58     0     0  ...     0      0     0     0     0     0     0      0      0   \n",
      "59   566   236  ...  .207   .656  15.3   5.1   2.1   1.1   0.1   .003   -5.2   \n",
      "\n",
      "    VORP  \n",
      "0   14.2  \n",
      "1    6.7  \n",
      "2    8.1  \n",
      "3   -1.9  \n",
      "4    0.3  \n",
      "5    9.8  \n",
      "6    7.9  \n",
      "7   -0.5  \n",
      "8    8.3  \n",
      "9   -0.1  \n",
      "10  16.8  \n",
      "11   0.2  \n",
      "12  -0.2  \n",
      "13   0.2  \n",
      "14   0.1  \n",
      "15   0.0  \n",
      "16  -0.5  \n",
      "17  -0.3  \n",
      "18   2.0  \n",
      "19   4.2  \n",
      "20  -0.4  \n",
      "21  -0.7  \n",
      "22  -0.2  \n",
      "23  -2.7  \n",
      "24   0.0  \n",
      "25   0.2  \n",
      "26  14.6  \n",
      "27  -0.2  \n",
      "28  10.1  \n",
      "29   0.8  \n",
      "30   0.0  \n",
      "31   5.1  \n",
      "32   0.3  \n",
      "33  -1.1  \n",
      "34     0  \n",
      "35  10.2  \n",
      "36  -0.1  \n",
      "37  -0.6  \n",
      "38     0  \n",
      "39  -0.1  \n",
      "40  -0.2  \n",
      "41  -1.4  \n",
      "42  -0.2  \n",
      "43     0  \n",
      "44   0.1  \n",
      "45  -0.2  \n",
      "46  -0.2  \n",
      "47  -1.4  \n",
      "48  -0.1  \n",
      "49   1.0  \n",
      "50  -0.1  \n",
      "51   0.0  \n",
      "52  -0.1  \n",
      "53  -0.4  \n",
      "54   0.0  \n",
      "55  -0.1  \n",
      "56     0  \n",
      "57  -0.4  \n",
      "58     0  \n",
      "59  -1.4  \n",
      "\n",
      "[60 rows x 22 columns]\n"
     ]
    },
    {
     "data": {
      "application/vnd.plotly.v1+json": {
       "config": {
        "plotlyServerURL": "https://plot.ly"
       },
       "data": [
        {
         "hovertemplate": "<b>%{hovertext}</b><br><br>MP=%{x}<br>3P=%{y}<extra></extra>",
         "hovertext": [
          "Ben Simmons",
          "Brandon Ingram",
          "Jaylen Brown",
          "Dragan Bender",
          "Kris Dunn",
          "Buddy Hield",
          "Jamal Murray",
          "Marquese Chriss",
          "Jakob Poeltl",
          "Thon Maker",
          "Domantas Sabonis",
          "Taurean Prince",
          "Georgios Papagiannis",
          "Denzel Valentine",
          "Juancho Hernangómez",
          "Guerschon Yabusele",
          "Wade Baldwin",
          "Henry Ellenson",
          "Malik Beasley",
          "Caris LeVert",
          "DeAndre' Bembry",
          "Malachi Richardson",
          "Ante Žižić",
          "Timothé Luwawu-Cabarrot",
          "Brice Johnson",
          "Furkan Korkmaz",
          "Pascal Siakam",
          "Skal Labissière",
          "Dejounte Murray",
          "Damian Jones",
          "Deyonta Davis",
          "Ivica Zubac",
          "Cheick Diallo",
          "Tyler Ulis",
          "Rade Zagorac",
          "Malcolm Brogdon",
          "Chinanu Onuaku",
          "Patrick McCaw",
          "David Michineau",
          "Diamond Stone",
          "Stephen Zimmerman",
          "Isaiah Whitehead",
          "Zhou Qi",
          "Isaïa Cordinier",
          "Demetrius Jackson",
          "A.J. Hammons",
          "Jake Layman",
          "Paul Zipser",
          "Michael Gbinije",
          "Georges Niang",
          "Ben Bentil",
          "Joel Bolomboy",
          "Petr Cornelie",
          "Kay Felder",
          "Marcus Paige",
          "Daniel Hamilton",
          "Wang Zhelin",
          "Abdel Nader",
          "Isaiah Cousins",
          "Tyrone Wallace"
         ],
         "legendgroup": "",
         "marker": {
          "color": "#636efa",
          "symbol": "circle"
         },
         "mode": "markers",
         "name": "",
         "orientation": "v",
         "showlegend": false,
         "type": "scatter",
         "x": [
          10588,
          13686,
          14093,
          3755,
          6544,
          16274,
          12724,
          5338,
          10468,
          3624,
          14681,
          10244,
          477,
          4817,
          5269,
          486,
          579,
          787,
          9261,
          11165,
          5670,
          625,
          1517,
          5254,
          107,
          5171,
          14645,
          2595,
          11121,
          3544,
          1299,
          9135,
          2186,
          2782,
          0,
          11974,
          74,
          3373,
          0,
          24,
          108,
          1823,
          125,
          0,
          136,
          163,
          3099,
          1667,
          32,
          6105,
          10,
          91,
          38,
          526,
          28,
          232,
          0,
          2583,
          0,
          1714
         ],
         "xaxis": "x",
         "y": [
          0.139,
          0.363,
          0.366,
          0.323,
          0.311,
          0.402,
          0.374,
          0.29,
          0.5,
          0.327,
          0.326,
          0.372,
          0,
          0.36,
          0.342,
          0.323,
          0.25,
          0.336,
          0.379,
          0.345,
          0.283,
          0.301,
          0,
          0.335,
          0,
          0.357,
          0.328,
          0.353,
          0.335,
          0.383,
          0,
          0.083,
          0.286,
          0.28,
          0,
          0.387,
          0,
          0.305,
          0,
          0,
          0,
          0.305,
          0.105,
          0,
          0.286,
          0.5,
          0.3,
          0.335,
          0,
          0.4,
          0,
          0.2,
          0.125,
          0.268,
          0.25,
          0.357,
          0,
          0.357,
          0,
          0.207
         ],
         "yaxis": "y"
        }
       ],
       "layout": {
        "legend": {
         "tracegroupgap": 0
        },
        "template": {
         "data": {
          "bar": [
           {
            "error_x": {
             "color": "#2a3f5f"
            },
            "error_y": {
             "color": "#2a3f5f"
            },
            "marker": {
             "line": {
              "color": "#E5ECF6",
              "width": 0.5
             },
             "pattern": {
              "fillmode": "overlay",
              "size": 10,
              "solidity": 0.2
             }
            },
            "type": "bar"
           }
          ],
          "barpolar": [
           {
            "marker": {
             "line": {
              "color": "#E5ECF6",
              "width": 0.5
             },
             "pattern": {
              "fillmode": "overlay",
              "size": 10,
              "solidity": 0.2
             }
            },
            "type": "barpolar"
           }
          ],
          "carpet": [
           {
            "aaxis": {
             "endlinecolor": "#2a3f5f",
             "gridcolor": "white",
             "linecolor": "white",
             "minorgridcolor": "white",
             "startlinecolor": "#2a3f5f"
            },
            "baxis": {
             "endlinecolor": "#2a3f5f",
             "gridcolor": "white",
             "linecolor": "white",
             "minorgridcolor": "white",
             "startlinecolor": "#2a3f5f"
            },
            "type": "carpet"
           }
          ],
          "choropleth": [
           {
            "colorbar": {
             "outlinewidth": 0,
             "ticks": ""
            },
            "type": "choropleth"
           }
          ],
          "contour": [
           {
            "colorbar": {
             "outlinewidth": 0,
             "ticks": ""
            },
            "colorscale": [
             [
              0,
              "#0d0887"
             ],
             [
              0.1111111111111111,
              "#46039f"
             ],
             [
              0.2222222222222222,
              "#7201a8"
             ],
             [
              0.3333333333333333,
              "#9c179e"
             ],
             [
              0.4444444444444444,
              "#bd3786"
             ],
             [
              0.5555555555555556,
              "#d8576b"
             ],
             [
              0.6666666666666666,
              "#ed7953"
             ],
             [
              0.7777777777777778,
              "#fb9f3a"
             ],
             [
              0.8888888888888888,
              "#fdca26"
             ],
             [
              1,
              "#f0f921"
             ]
            ],
            "type": "contour"
           }
          ],
          "contourcarpet": [
           {
            "colorbar": {
             "outlinewidth": 0,
             "ticks": ""
            },
            "type": "contourcarpet"
           }
          ],
          "heatmap": [
           {
            "colorbar": {
             "outlinewidth": 0,
             "ticks": ""
            },
            "colorscale": [
             [
              0,
              "#0d0887"
             ],
             [
              0.1111111111111111,
              "#46039f"
             ],
             [
              0.2222222222222222,
              "#7201a8"
             ],
             [
              0.3333333333333333,
              "#9c179e"
             ],
             [
              0.4444444444444444,
              "#bd3786"
             ],
             [
              0.5555555555555556,
              "#d8576b"
             ],
             [
              0.6666666666666666,
              "#ed7953"
             ],
             [
              0.7777777777777778,
              "#fb9f3a"
             ],
             [
              0.8888888888888888,
              "#fdca26"
             ],
             [
              1,
              "#f0f921"
             ]
            ],
            "type": "heatmap"
           }
          ],
          "heatmapgl": [
           {
            "colorbar": {
             "outlinewidth": 0,
             "ticks": ""
            },
            "colorscale": [
             [
              0,
              "#0d0887"
             ],
             [
              0.1111111111111111,
              "#46039f"
             ],
             [
              0.2222222222222222,
              "#7201a8"
             ],
             [
              0.3333333333333333,
              "#9c179e"
             ],
             [
              0.4444444444444444,
              "#bd3786"
             ],
             [
              0.5555555555555556,
              "#d8576b"
             ],
             [
              0.6666666666666666,
              "#ed7953"
             ],
             [
              0.7777777777777778,
              "#fb9f3a"
             ],
             [
              0.8888888888888888,
              "#fdca26"
             ],
             [
              1,
              "#f0f921"
             ]
            ],
            "type": "heatmapgl"
           }
          ],
          "histogram": [
           {
            "marker": {
             "pattern": {
              "fillmode": "overlay",
              "size": 10,
              "solidity": 0.2
             }
            },
            "type": "histogram"
           }
          ],
          "histogram2d": [
           {
            "colorbar": {
             "outlinewidth": 0,
             "ticks": ""
            },
            "colorscale": [
             [
              0,
              "#0d0887"
             ],
             [
              0.1111111111111111,
              "#46039f"
             ],
             [
              0.2222222222222222,
              "#7201a8"
             ],
             [
              0.3333333333333333,
              "#9c179e"
             ],
             [
              0.4444444444444444,
              "#bd3786"
             ],
             [
              0.5555555555555556,
              "#d8576b"
             ],
             [
              0.6666666666666666,
              "#ed7953"
             ],
             [
              0.7777777777777778,
              "#fb9f3a"
             ],
             [
              0.8888888888888888,
              "#fdca26"
             ],
             [
              1,
              "#f0f921"
             ]
            ],
            "type": "histogram2d"
           }
          ],
          "histogram2dcontour": [
           {
            "colorbar": {
             "outlinewidth": 0,
             "ticks": ""
            },
            "colorscale": [
             [
              0,
              "#0d0887"
             ],
             [
              0.1111111111111111,
              "#46039f"
             ],
             [
              0.2222222222222222,
              "#7201a8"
             ],
             [
              0.3333333333333333,
              "#9c179e"
             ],
             [
              0.4444444444444444,
              "#bd3786"
             ],
             [
              0.5555555555555556,
              "#d8576b"
             ],
             [
              0.6666666666666666,
              "#ed7953"
             ],
             [
              0.7777777777777778,
              "#fb9f3a"
             ],
             [
              0.8888888888888888,
              "#fdca26"
             ],
             [
              1,
              "#f0f921"
             ]
            ],
            "type": "histogram2dcontour"
           }
          ],
          "mesh3d": [
           {
            "colorbar": {
             "outlinewidth": 0,
             "ticks": ""
            },
            "type": "mesh3d"
           }
          ],
          "parcoords": [
           {
            "line": {
             "colorbar": {
              "outlinewidth": 0,
              "ticks": ""
             }
            },
            "type": "parcoords"
           }
          ],
          "pie": [
           {
            "automargin": true,
            "type": "pie"
           }
          ],
          "scatter": [
           {
            "fillpattern": {
             "fillmode": "overlay",
             "size": 10,
             "solidity": 0.2
            },
            "type": "scatter"
           }
          ],
          "scatter3d": [
           {
            "line": {
             "colorbar": {
              "outlinewidth": 0,
              "ticks": ""
             }
            },
            "marker": {
             "colorbar": {
              "outlinewidth": 0,
              "ticks": ""
             }
            },
            "type": "scatter3d"
           }
          ],
          "scattercarpet": [
           {
            "marker": {
             "colorbar": {
              "outlinewidth": 0,
              "ticks": ""
             }
            },
            "type": "scattercarpet"
           }
          ],
          "scattergeo": [
           {
            "marker": {
             "colorbar": {
              "outlinewidth": 0,
              "ticks": ""
             }
            },
            "type": "scattergeo"
           }
          ],
          "scattergl": [
           {
            "marker": {
             "colorbar": {
              "outlinewidth": 0,
              "ticks": ""
             }
            },
            "type": "scattergl"
           }
          ],
          "scattermapbox": [
           {
            "marker": {
             "colorbar": {
              "outlinewidth": 0,
              "ticks": ""
             }
            },
            "type": "scattermapbox"
           }
          ],
          "scatterpolar": [
           {
            "marker": {
             "colorbar": {
              "outlinewidth": 0,
              "ticks": ""
             }
            },
            "type": "scatterpolar"
           }
          ],
          "scatterpolargl": [
           {
            "marker": {
             "colorbar": {
              "outlinewidth": 0,
              "ticks": ""
             }
            },
            "type": "scatterpolargl"
           }
          ],
          "scatterternary": [
           {
            "marker": {
             "colorbar": {
              "outlinewidth": 0,
              "ticks": ""
             }
            },
            "type": "scatterternary"
           }
          ],
          "surface": [
           {
            "colorbar": {
             "outlinewidth": 0,
             "ticks": ""
            },
            "colorscale": [
             [
              0,
              "#0d0887"
             ],
             [
              0.1111111111111111,
              "#46039f"
             ],
             [
              0.2222222222222222,
              "#7201a8"
             ],
             [
              0.3333333333333333,
              "#9c179e"
             ],
             [
              0.4444444444444444,
              "#bd3786"
             ],
             [
              0.5555555555555556,
              "#d8576b"
             ],
             [
              0.6666666666666666,
              "#ed7953"
             ],
             [
              0.7777777777777778,
              "#fb9f3a"
             ],
             [
              0.8888888888888888,
              "#fdca26"
             ],
             [
              1,
              "#f0f921"
             ]
            ],
            "type": "surface"
           }
          ],
          "table": [
           {
            "cells": {
             "fill": {
              "color": "#EBF0F8"
             },
             "line": {
              "color": "white"
             }
            },
            "header": {
             "fill": {
              "color": "#C8D4E3"
             },
             "line": {
              "color": "white"
             }
            },
            "type": "table"
           }
          ]
         },
         "layout": {
          "annotationdefaults": {
           "arrowcolor": "#2a3f5f",
           "arrowhead": 0,
           "arrowwidth": 1
          },
          "autotypenumbers": "strict",
          "coloraxis": {
           "colorbar": {
            "outlinewidth": 0,
            "ticks": ""
           }
          },
          "colorscale": {
           "diverging": [
            [
             0,
             "#8e0152"
            ],
            [
             0.1,
             "#c51b7d"
            ],
            [
             0.2,
             "#de77ae"
            ],
            [
             0.3,
             "#f1b6da"
            ],
            [
             0.4,
             "#fde0ef"
            ],
            [
             0.5,
             "#f7f7f7"
            ],
            [
             0.6,
             "#e6f5d0"
            ],
            [
             0.7,
             "#b8e186"
            ],
            [
             0.8,
             "#7fbc41"
            ],
            [
             0.9,
             "#4d9221"
            ],
            [
             1,
             "#276419"
            ]
           ],
           "sequential": [
            [
             0,
             "#0d0887"
            ],
            [
             0.1111111111111111,
             "#46039f"
            ],
            [
             0.2222222222222222,
             "#7201a8"
            ],
            [
             0.3333333333333333,
             "#9c179e"
            ],
            [
             0.4444444444444444,
             "#bd3786"
            ],
            [
             0.5555555555555556,
             "#d8576b"
            ],
            [
             0.6666666666666666,
             "#ed7953"
            ],
            [
             0.7777777777777778,
             "#fb9f3a"
            ],
            [
             0.8888888888888888,
             "#fdca26"
            ],
            [
             1,
             "#f0f921"
            ]
           ],
           "sequentialminus": [
            [
             0,
             "#0d0887"
            ],
            [
             0.1111111111111111,
             "#46039f"
            ],
            [
             0.2222222222222222,
             "#7201a8"
            ],
            [
             0.3333333333333333,
             "#9c179e"
            ],
            [
             0.4444444444444444,
             "#bd3786"
            ],
            [
             0.5555555555555556,
             "#d8576b"
            ],
            [
             0.6666666666666666,
             "#ed7953"
            ],
            [
             0.7777777777777778,
             "#fb9f3a"
            ],
            [
             0.8888888888888888,
             "#fdca26"
            ],
            [
             1,
             "#f0f921"
            ]
           ]
          },
          "colorway": [
           "#636efa",
           "#EF553B",
           "#00cc96",
           "#ab63fa",
           "#FFA15A",
           "#19d3f3",
           "#FF6692",
           "#B6E880",
           "#FF97FF",
           "#FECB52"
          ],
          "font": {
           "color": "#2a3f5f"
          },
          "geo": {
           "bgcolor": "white",
           "lakecolor": "white",
           "landcolor": "#E5ECF6",
           "showlakes": true,
           "showland": true,
           "subunitcolor": "white"
          },
          "hoverlabel": {
           "align": "left"
          },
          "hovermode": "closest",
          "mapbox": {
           "style": "light"
          },
          "paper_bgcolor": "white",
          "plot_bgcolor": "#E5ECF6",
          "polar": {
           "angularaxis": {
            "gridcolor": "white",
            "linecolor": "white",
            "ticks": ""
           },
           "bgcolor": "#E5ECF6",
           "radialaxis": {
            "gridcolor": "white",
            "linecolor": "white",
            "ticks": ""
           }
          },
          "scene": {
           "xaxis": {
            "backgroundcolor": "#E5ECF6",
            "gridcolor": "white",
            "gridwidth": 2,
            "linecolor": "white",
            "showbackground": true,
            "ticks": "",
            "zerolinecolor": "white"
           },
           "yaxis": {
            "backgroundcolor": "#E5ECF6",
            "gridcolor": "white",
            "gridwidth": 2,
            "linecolor": "white",
            "showbackground": true,
            "ticks": "",
            "zerolinecolor": "white"
           },
           "zaxis": {
            "backgroundcolor": "#E5ECF6",
            "gridcolor": "white",
            "gridwidth": 2,
            "linecolor": "white",
            "showbackground": true,
            "ticks": "",
            "zerolinecolor": "white"
           }
          },
          "shapedefaults": {
           "line": {
            "color": "#2a3f5f"
           }
          },
          "ternary": {
           "aaxis": {
            "gridcolor": "white",
            "linecolor": "white",
            "ticks": ""
           },
           "baxis": {
            "gridcolor": "white",
            "linecolor": "white",
            "ticks": ""
           },
           "bgcolor": "#E5ECF6",
           "caxis": {
            "gridcolor": "white",
            "linecolor": "white",
            "ticks": ""
           }
          },
          "title": {
           "x": 0.05
          },
          "xaxis": {
           "automargin": true,
           "gridcolor": "white",
           "linecolor": "white",
           "ticks": "",
           "title": {
            "standoff": 15
           },
           "zerolinecolor": "white",
           "zerolinewidth": 2
          },
          "yaxis": {
           "automargin": true,
           "gridcolor": "white",
           "linecolor": "white",
           "ticks": "",
           "title": {
            "standoff": 15
           },
           "zerolinecolor": "white",
           "zerolinewidth": 2
          }
         }
        },
        "title": {
         "text": "2016 NBA Draft Class Points vs Minutes Played"
        },
        "xaxis": {
         "anchor": "y",
         "domain": [
          0,
          1
         ],
         "title": {
          "text": "MP"
         }
        },
        "yaxis": {
         "anchor": "x",
         "domain": [
          0,
          1
         ],
         "title": {
          "text": "3P"
         }
        }
       }
      }
     },
     "metadata": {},
     "output_type": "display_data"
    }
   ],
   "source": [
    "import pandas as pd\n",
    "import plotly.express as px\n",
    "per_game = pd.read_html('https://www.basketball-reference.com/players/s/siakapa01.html')[0]\n",
    "draft_class = pd.read_html('https://www.basketball-reference.com/draft/NBA_2016.html')[0]\n",
    "\n",
    "draft_class = draft_class.fillna(0)\n",
    "draft_class = draft_class.drop([30, 31]).reset_index(drop=True)\n",
    "draft_class.columns = draft_class.columns.droplevel()\n",
    "draft_class.columns = ['Rk', 'Pk', 'Tm','Player','Pos','Yrs','G','MP','PTS','TRB','AST','FG%','3P','FT%','MPPG','PTSPG','TRBPG','ASTPG','WS','WS/48','BPM','VORP']\n",
    "print(draft_class)\n",
    "\n",
    "for column in draft_class.columns:\n",
    "    draft_class[column] = pd.to_numeric(draft_class[column], errors='ignore')\n",
    "draft_class.dtypes\n",
    "\n",
    "# draft_class['WORP'] = draft_class['VORP'] * 2.70\n",
    "\n",
    "px.scatter(draft_class, x='MP', y='3P', hover_name='Player', title='2016 NBA Draft Class Points vs Minutes Played')\n"
   ]
  },
  {
   "cell_type": "markdown",
   "metadata": {},
   "source": [
    "## Reflection Questions\n",
    "\n",
    "* What is something you learned through this process?\n",
    "* What would you like to show others?\n",
    "* How can you apply your learning to future activities?"
   ]
  },
  {
   "cell_type": "markdown",
   "metadata": {},
   "source": [
    "[![Callysto.ca License](../../bottom-banner.jpg)](https://github.com/callysto/curriculum-notebooks/blob/master/LICENSE.md)"
   ]
  }
 ],
 "metadata": {
  "kernelspec": {
   "display_name": ".venv",
   "language": "python",
   "name": "python3"
  },
  "language_info": {
   "codemirror_mode": {
    "name": "ipython",
    "version": 3
   },
   "file_extension": ".py",
   "mimetype": "text/x-python",
   "name": "python",
   "nbconvert_exporter": "python",
   "pygments_lexer": "ipython3",
   "version": "3.10.12"
  },
  "orig_nbformat": 4
 },
 "nbformat": 4,
 "nbformat_minor": 2
}
